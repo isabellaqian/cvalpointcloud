{
 "cells": [
  {
   "cell_type": "code",
   "execution_count": 6,
   "metadata": {},
   "outputs": [
    {
     "name": "stdout",
     "output_type": "stream",
     "text": [
      "Jupyter environment detected. Enabling Open3D WebVisualizer.\n",
      "[Open3D INFO] WebRTC GUI backend enabled.\n",
      "[Open3D INFO] WebRTCWindowSystem: HTTP handshake server disabled.\n"
     ]
    }
   ],
   "source": [
    "from __future__ import print_function\n",
    "import os\n",
    "import argparse\n",
    "import torch\n",
    "import torch.nn as nn\n",
    "import torch.nn.functional as F\n",
    "import torch.optim as optim\n",
    "from torch.optim.lr_scheduler import CosineAnnealingLR, StepLR\n",
    "from data import ModelNet40\n",
    "from model import PointNet, DGCNN_cls\n",
    "import numpy as np\n",
    "from torch.utils.data import DataLoader\n",
    "from util import cal_loss, IOStream, vis_point_cloud\n",
    "import sklearn.metrics as metrics\n",
    "import pickle\n",
    "import open3d as o3d"
   ]
  },
  {
   "cell_type": "code",
   "execution_count": 22,
   "metadata": {},
   "outputs": [
    {
     "name": "stdout",
     "output_type": "stream",
     "text": [
      "cuda\n"
     ]
    }
   ],
   "source": [
    "device = torch.device(\"cuda\" if torch.cuda.is_available() else \"cpu\")\n",
    "class args:\n",
    "    def __init__(self):\n",
    "        self.batch_size = 32\n",
    "        self.num_points = 1024\n",
    "        self.no_cuda = not torch.cuda.is_available()\n",
    "        self.cuda = torch.cuda.is_available()\n",
    "        self.seed = 1\n",
    "        self.exp_name = \"cls_1024_eval\"\n",
    "        self.model = \"dgcnn\"\n",
    "        self.dataset = \"modelnet40\"\n",
    "        self.test_batch_size = 16\n",
    "        self.epochs = 250\n",
    "        self.lr = 0.001\n",
    "        self.momentum = 0.9\n",
    "        self.scheduler = \"cos\"\n",
    "        self.dropout = 0.5\n",
    "        self.k = 20\n",
    "        self.model_path = \"pretrained/model.cls.1024.t7\"\n",
    "        self.emb_dims = 1024\n",
    "args = args()\n",
    "\n",
    "if not os.path.exists(\"outputs\"):\n",
    "    os.makedirs(\"outputs\")\n",
    "if not os.path.exists(\"outputs/\" + args.exp_name):\n",
    "    os.makedirs(\"outputs/\" + args.exp_name)\n",
    "if not os.path.exists(\"outputs/\" + args.exp_name + \"/\" + \"models\"):\n",
    "    os.makedirs(\"outputs/\" + args.exp_name + \"/\" + \"models\")\n",
    "os.system(\n",
    "    \"cp main_cls.py outputs\" + \"/\" + args.exp_name + \"/\" + \"main_cls.py.backup\"\n",
    ")\n",
    "os.system(\"cp model.py outputs\" + \"/\" + args.exp_name + \"/\" + \"model.py.backup\")\n",
    "os.system(\"cp util.py outputs\" + \"/\" + args.exp_name + \"/\" + \"util.py.backup\")\n",
    "os.system(\"cp data.py outputs\" + \"/\" + args.exp_name + \"/\" + \"data.py.backup\")\n",
    "print(device)"
   ]
  },
  {
   "cell_type": "code",
   "execution_count": 23,
   "metadata": {},
   "outputs": [
    {
     "name": "stdout",
     "output_type": "stream",
     "text": [
      "0.0064516129032258064\n"
     ]
    },
    {
     "ename": "RuntimeError",
     "evalue": "Caught RuntimeError in replica 0 on device 0.\nOriginal Traceback (most recent call last):\n  File \"/home/qian/anaconda3/envs/pointcloud/lib/python3.10/site-packages/torch/nn/parallel/parallel_apply.py\", line 64, in _worker\n    output = module(*input, **kwargs)\n  File \"/home/qian/anaconda3/envs/pointcloud/lib/python3.10/site-packages/torch/nn/modules/module.py\", line 1501, in _call_impl\n    return forward_call(*args, **kwargs)\n  File \"/home/qian/Desktop/cvalpointcloud/model.py\", line 146, in forward\n    x = get_graph_feature(\n  File \"/home/qian/Desktop/cvalpointcloud/model.py\", line 49, in get_graph_feature\n    idx = idx + idx_base\nRuntimeError: Expected all tensors to be on the same device, but found at least two devices, cuda:0 and cpu!\n",
     "output_type": "error",
     "traceback": [
      "\u001b[0;31m---------------------------------------------------------------------------\u001b[0m",
      "\u001b[0;31mRuntimeError\u001b[0m                              Traceback (most recent call last)",
      "Cell \u001b[0;32mIn[23], line 30\u001b[0m\n\u001b[1;32m     28\u001b[0m data \u001b[39m=\u001b[39m data\u001b[39m.\u001b[39mpermute(\u001b[39m0\u001b[39m, \u001b[39m2\u001b[39m, \u001b[39m1\u001b[39m)\n\u001b[1;32m     29\u001b[0m batch_size \u001b[39m=\u001b[39m data\u001b[39m.\u001b[39msize()[\u001b[39m0\u001b[39m]\n\u001b[0;32m---> 30\u001b[0m logits \u001b[39m=\u001b[39m model(data)\n\u001b[1;32m     31\u001b[0m preds \u001b[39m=\u001b[39m logits\u001b[39m.\u001b[39mmax(dim\u001b[39m=\u001b[39m\u001b[39m1\u001b[39m)[\u001b[39m1\u001b[39m]\n\u001b[1;32m     32\u001b[0m test_true\u001b[39m.\u001b[39mappend(label\u001b[39m.\u001b[39mcpu()\u001b[39m.\u001b[39mnumpy())\n",
      "File \u001b[0;32m~/anaconda3/envs/pointcloud/lib/python3.10/site-packages/torch/nn/modules/module.py:1501\u001b[0m, in \u001b[0;36mModule._call_impl\u001b[0;34m(self, *args, **kwargs)\u001b[0m\n\u001b[1;32m   1496\u001b[0m \u001b[39m# If we don't have any hooks, we want to skip the rest of the logic in\u001b[39;00m\n\u001b[1;32m   1497\u001b[0m \u001b[39m# this function, and just call forward.\u001b[39;00m\n\u001b[1;32m   1498\u001b[0m \u001b[39mif\u001b[39;00m \u001b[39mnot\u001b[39;00m (\u001b[39mself\u001b[39m\u001b[39m.\u001b[39m_backward_hooks \u001b[39mor\u001b[39;00m \u001b[39mself\u001b[39m\u001b[39m.\u001b[39m_backward_pre_hooks \u001b[39mor\u001b[39;00m \u001b[39mself\u001b[39m\u001b[39m.\u001b[39m_forward_hooks \u001b[39mor\u001b[39;00m \u001b[39mself\u001b[39m\u001b[39m.\u001b[39m_forward_pre_hooks\n\u001b[1;32m   1499\u001b[0m         \u001b[39mor\u001b[39;00m _global_backward_pre_hooks \u001b[39mor\u001b[39;00m _global_backward_hooks\n\u001b[1;32m   1500\u001b[0m         \u001b[39mor\u001b[39;00m _global_forward_hooks \u001b[39mor\u001b[39;00m _global_forward_pre_hooks):\n\u001b[0;32m-> 1501\u001b[0m     \u001b[39mreturn\u001b[39;00m forward_call(\u001b[39m*\u001b[39;49margs, \u001b[39m*\u001b[39;49m\u001b[39m*\u001b[39;49mkwargs)\n\u001b[1;32m   1502\u001b[0m \u001b[39m# Do not call functions when jit is used\u001b[39;00m\n\u001b[1;32m   1503\u001b[0m full_backward_hooks, non_full_backward_hooks \u001b[39m=\u001b[39m [], []\n",
      "File \u001b[0;32m~/anaconda3/envs/pointcloud/lib/python3.10/site-packages/torch/nn/parallel/data_parallel.py:171\u001b[0m, in \u001b[0;36mDataParallel.forward\u001b[0;34m(self, *inputs, **kwargs)\u001b[0m\n\u001b[1;32m    169\u001b[0m     \u001b[39mreturn\u001b[39;00m \u001b[39mself\u001b[39m\u001b[39m.\u001b[39mmodule(\u001b[39m*\u001b[39minputs[\u001b[39m0\u001b[39m], \u001b[39m*\u001b[39m\u001b[39m*\u001b[39mkwargs[\u001b[39m0\u001b[39m])\n\u001b[1;32m    170\u001b[0m replicas \u001b[39m=\u001b[39m \u001b[39mself\u001b[39m\u001b[39m.\u001b[39mreplicate(\u001b[39mself\u001b[39m\u001b[39m.\u001b[39mmodule, \u001b[39mself\u001b[39m\u001b[39m.\u001b[39mdevice_ids[:\u001b[39mlen\u001b[39m(inputs)])\n\u001b[0;32m--> 171\u001b[0m outputs \u001b[39m=\u001b[39m \u001b[39mself\u001b[39;49m\u001b[39m.\u001b[39;49mparallel_apply(replicas, inputs, kwargs)\n\u001b[1;32m    172\u001b[0m \u001b[39mreturn\u001b[39;00m \u001b[39mself\u001b[39m\u001b[39m.\u001b[39mgather(outputs, \u001b[39mself\u001b[39m\u001b[39m.\u001b[39moutput_device)\n",
      "File \u001b[0;32m~/anaconda3/envs/pointcloud/lib/python3.10/site-packages/torch/nn/parallel/data_parallel.py:181\u001b[0m, in \u001b[0;36mDataParallel.parallel_apply\u001b[0;34m(self, replicas, inputs, kwargs)\u001b[0m\n\u001b[1;32m    180\u001b[0m \u001b[39mdef\u001b[39;00m \u001b[39mparallel_apply\u001b[39m(\u001b[39mself\u001b[39m, replicas, inputs, kwargs):\n\u001b[0;32m--> 181\u001b[0m     \u001b[39mreturn\u001b[39;00m parallel_apply(replicas, inputs, kwargs, \u001b[39mself\u001b[39;49m\u001b[39m.\u001b[39;49mdevice_ids[:\u001b[39mlen\u001b[39;49m(replicas)])\n",
      "File \u001b[0;32m~/anaconda3/envs/pointcloud/lib/python3.10/site-packages/torch/nn/parallel/parallel_apply.py:89\u001b[0m, in \u001b[0;36mparallel_apply\u001b[0;34m(modules, inputs, kwargs_tup, devices)\u001b[0m\n\u001b[1;32m     87\u001b[0m     output \u001b[39m=\u001b[39m results[i]\n\u001b[1;32m     88\u001b[0m     \u001b[39mif\u001b[39;00m \u001b[39misinstance\u001b[39m(output, ExceptionWrapper):\n\u001b[0;32m---> 89\u001b[0m         output\u001b[39m.\u001b[39mreraise()\n\u001b[1;32m     90\u001b[0m     outputs\u001b[39m.\u001b[39mappend(output)\n\u001b[1;32m     91\u001b[0m \u001b[39mreturn\u001b[39;00m outputs\n",
      "File \u001b[0;32m~/anaconda3/envs/pointcloud/lib/python3.10/site-packages/torch/_utils.py:644\u001b[0m, in \u001b[0;36mExceptionWrapper.reraise\u001b[0;34m(self)\u001b[0m\n\u001b[1;32m    640\u001b[0m \u001b[39mexcept\u001b[39;00m \u001b[39mTypeError\u001b[39;00m:\n\u001b[1;32m    641\u001b[0m     \u001b[39m# If the exception takes multiple arguments, don't try to\u001b[39;00m\n\u001b[1;32m    642\u001b[0m     \u001b[39m# instantiate since we don't know how to\u001b[39;00m\n\u001b[1;32m    643\u001b[0m     \u001b[39mraise\u001b[39;00m \u001b[39mRuntimeError\u001b[39;00m(msg) \u001b[39mfrom\u001b[39;00m \u001b[39mNone\u001b[39;00m\n\u001b[0;32m--> 644\u001b[0m \u001b[39mraise\u001b[39;00m exception\n",
      "\u001b[0;31mRuntimeError\u001b[0m: Caught RuntimeError in replica 0 on device 0.\nOriginal Traceback (most recent call last):\n  File \"/home/qian/anaconda3/envs/pointcloud/lib/python3.10/site-packages/torch/nn/parallel/parallel_apply.py\", line 64, in _worker\n    output = module(*input, **kwargs)\n  File \"/home/qian/anaconda3/envs/pointcloud/lib/python3.10/site-packages/torch/nn/modules/module.py\", line 1501, in _call_impl\n    return forward_call(*args, **kwargs)\n  File \"/home/qian/Desktop/cvalpointcloud/model.py\", line 146, in forward\n    x = get_graph_feature(\n  File \"/home/qian/Desktop/cvalpointcloud/model.py\", line 49, in get_graph_feature\n    idx = idx + idx_base\nRuntimeError: Expected all tensors to be on the same device, but found at least two devices, cuda:0 and cpu!\n"
     ]
    }
   ],
   "source": [
    "#sample test\n",
    "test_loader = DataLoader(\n",
    "        ModelNet40(partition=\"test\", num_points=args.num_points),\n",
    "        batch_size=args.test_batch_size,\n",
    "        shuffle=True,\n",
    "        drop_last=False,\n",
    "    )\n",
    "\n",
    "# Try to load models\n",
    "if args.model == \"pointnet\":\n",
    "    model = PointNet(args).to(device)\n",
    "elif args.model == \"dgcnn\":\n",
    "    model = DGCNN_cls(args).to(device)\n",
    "else:\n",
    "    raise Exception(\"Not implemented\")\n",
    "\n",
    "model = nn.DataParallel(model)\n",
    "model.load_state_dict(torch.load(args.model_path, map_location=torch.device(device)))\n",
    "model = model.to(device).eval()\n",
    "test_acc = 0.0\n",
    "count = 0.0\n",
    "test_true = []\n",
    "test_pred = []\n",
    "for data, label in test_loader:\n",
    "    count += 1\n",
    "    print(count / len(test_loader))\n",
    "    data, label = data.to(device), label.to(device).squeeze()\n",
    "    data = data.permute(0, 2, 1)\n",
    "    batch_size = data.size()[0]\n",
    "    logits = model(data)\n",
    "    preds = logits.max(dim=1)[1]\n",
    "    test_true.append(label.cpu().numpy())\n",
    "    test_pred.append(preds.detach().cpu().numpy())\n",
    "test_true = np.concatenate(test_true)\n",
    "test_pred = np.concatenate(test_pred)\n",
    "test_acc = metrics.accuracy_score(test_true, test_pred)\n",
    "avg_per_class_acc = metrics.balanced_accuracy_score(test_true, test_pred)\n",
    "outstr = \"Test :: test acc: %.6f, test avg acc: %.6f\" % (\n",
    "    test_acc,\n",
    "    avg_per_class_acc,\n",
    ")\n",
    "print(outstr)"
   ]
  },
  {
   "cell_type": "code",
   "execution_count": 10,
   "metadata": {},
   "outputs": [
    {
     "name": "stdout",
     "output_type": "stream",
     "text": [
      "Let's use 2 GPUs!\n",
      "Use Adam\n"
     ]
    },
    {
     "ename": "RuntimeError",
     "evalue": "Caught RuntimeError in replica 0 on device 0.\nOriginal Traceback (most recent call last):\n  File \"/home/qian/anaconda3/envs/pointcloud/lib/python3.10/site-packages/torch/nn/parallel/parallel_apply.py\", line 64, in _worker\n    output = module(*input, **kwargs)\n  File \"/home/qian/anaconda3/envs/pointcloud/lib/python3.10/site-packages/torch/nn/modules/module.py\", line 1501, in _call_impl\n    return forward_call(*args, **kwargs)\n  File \"/home/qian/Desktop/cvalpointcloud/model.py\", line 146, in forward\n    x = get_graph_feature(\n  File \"/home/qian/Desktop/cvalpointcloud/model.py\", line 49, in get_graph_feature\n    idx = idx + idx_base\nRuntimeError: Expected all tensors to be on the same device, but found at least two devices, cuda:0 and cpu!\n",
     "output_type": "error",
     "traceback": [
      "\u001b[0;31m---------------------------------------------------------------------------\u001b[0m",
      "\u001b[0;31mRuntimeError\u001b[0m                              Traceback (most recent call last)",
      "Cell \u001b[0;32mIn[10], line 62\u001b[0m\n\u001b[1;32m     60\u001b[0m batch_size \u001b[39m=\u001b[39m data\u001b[39m.\u001b[39msize()[\u001b[39m0\u001b[39m]\n\u001b[1;32m     61\u001b[0m opt\u001b[39m.\u001b[39mzero_grad()\n\u001b[0;32m---> 62\u001b[0m logits \u001b[39m=\u001b[39m model(data)\n\u001b[1;32m     63\u001b[0m loss \u001b[39m=\u001b[39m criterion(logits, label)\n\u001b[1;32m     64\u001b[0m loss\u001b[39m.\u001b[39mbackward()\n",
      "File \u001b[0;32m~/anaconda3/envs/pointcloud/lib/python3.10/site-packages/torch/nn/modules/module.py:1501\u001b[0m, in \u001b[0;36mModule._call_impl\u001b[0;34m(self, *args, **kwargs)\u001b[0m\n\u001b[1;32m   1496\u001b[0m \u001b[39m# If we don't have any hooks, we want to skip the rest of the logic in\u001b[39;00m\n\u001b[1;32m   1497\u001b[0m \u001b[39m# this function, and just call forward.\u001b[39;00m\n\u001b[1;32m   1498\u001b[0m \u001b[39mif\u001b[39;00m \u001b[39mnot\u001b[39;00m (\u001b[39mself\u001b[39m\u001b[39m.\u001b[39m_backward_hooks \u001b[39mor\u001b[39;00m \u001b[39mself\u001b[39m\u001b[39m.\u001b[39m_backward_pre_hooks \u001b[39mor\u001b[39;00m \u001b[39mself\u001b[39m\u001b[39m.\u001b[39m_forward_hooks \u001b[39mor\u001b[39;00m \u001b[39mself\u001b[39m\u001b[39m.\u001b[39m_forward_pre_hooks\n\u001b[1;32m   1499\u001b[0m         \u001b[39mor\u001b[39;00m _global_backward_pre_hooks \u001b[39mor\u001b[39;00m _global_backward_hooks\n\u001b[1;32m   1500\u001b[0m         \u001b[39mor\u001b[39;00m _global_forward_hooks \u001b[39mor\u001b[39;00m _global_forward_pre_hooks):\n\u001b[0;32m-> 1501\u001b[0m     \u001b[39mreturn\u001b[39;00m forward_call(\u001b[39m*\u001b[39;49margs, \u001b[39m*\u001b[39;49m\u001b[39m*\u001b[39;49mkwargs)\n\u001b[1;32m   1502\u001b[0m \u001b[39m# Do not call functions when jit is used\u001b[39;00m\n\u001b[1;32m   1503\u001b[0m full_backward_hooks, non_full_backward_hooks \u001b[39m=\u001b[39m [], []\n",
      "File \u001b[0;32m~/anaconda3/envs/pointcloud/lib/python3.10/site-packages/torch/nn/parallel/data_parallel.py:171\u001b[0m, in \u001b[0;36mDataParallel.forward\u001b[0;34m(self, *inputs, **kwargs)\u001b[0m\n\u001b[1;32m    169\u001b[0m     \u001b[39mreturn\u001b[39;00m \u001b[39mself\u001b[39m\u001b[39m.\u001b[39mmodule(\u001b[39m*\u001b[39minputs[\u001b[39m0\u001b[39m], \u001b[39m*\u001b[39m\u001b[39m*\u001b[39mkwargs[\u001b[39m0\u001b[39m])\n\u001b[1;32m    170\u001b[0m replicas \u001b[39m=\u001b[39m \u001b[39mself\u001b[39m\u001b[39m.\u001b[39mreplicate(\u001b[39mself\u001b[39m\u001b[39m.\u001b[39mmodule, \u001b[39mself\u001b[39m\u001b[39m.\u001b[39mdevice_ids[:\u001b[39mlen\u001b[39m(inputs)])\n\u001b[0;32m--> 171\u001b[0m outputs \u001b[39m=\u001b[39m \u001b[39mself\u001b[39;49m\u001b[39m.\u001b[39;49mparallel_apply(replicas, inputs, kwargs)\n\u001b[1;32m    172\u001b[0m \u001b[39mreturn\u001b[39;00m \u001b[39mself\u001b[39m\u001b[39m.\u001b[39mgather(outputs, \u001b[39mself\u001b[39m\u001b[39m.\u001b[39moutput_device)\n",
      "File \u001b[0;32m~/anaconda3/envs/pointcloud/lib/python3.10/site-packages/torch/nn/parallel/data_parallel.py:181\u001b[0m, in \u001b[0;36mDataParallel.parallel_apply\u001b[0;34m(self, replicas, inputs, kwargs)\u001b[0m\n\u001b[1;32m    180\u001b[0m \u001b[39mdef\u001b[39;00m \u001b[39mparallel_apply\u001b[39m(\u001b[39mself\u001b[39m, replicas, inputs, kwargs):\n\u001b[0;32m--> 181\u001b[0m     \u001b[39mreturn\u001b[39;00m parallel_apply(replicas, inputs, kwargs, \u001b[39mself\u001b[39;49m\u001b[39m.\u001b[39;49mdevice_ids[:\u001b[39mlen\u001b[39;49m(replicas)])\n",
      "File \u001b[0;32m~/anaconda3/envs/pointcloud/lib/python3.10/site-packages/torch/nn/parallel/parallel_apply.py:89\u001b[0m, in \u001b[0;36mparallel_apply\u001b[0;34m(modules, inputs, kwargs_tup, devices)\u001b[0m\n\u001b[1;32m     87\u001b[0m     output \u001b[39m=\u001b[39m results[i]\n\u001b[1;32m     88\u001b[0m     \u001b[39mif\u001b[39;00m \u001b[39misinstance\u001b[39m(output, ExceptionWrapper):\n\u001b[0;32m---> 89\u001b[0m         output\u001b[39m.\u001b[39mreraise()\n\u001b[1;32m     90\u001b[0m     outputs\u001b[39m.\u001b[39mappend(output)\n\u001b[1;32m     91\u001b[0m \u001b[39mreturn\u001b[39;00m outputs\n",
      "File \u001b[0;32m~/anaconda3/envs/pointcloud/lib/python3.10/site-packages/torch/_utils.py:644\u001b[0m, in \u001b[0;36mExceptionWrapper.reraise\u001b[0;34m(self)\u001b[0m\n\u001b[1;32m    640\u001b[0m \u001b[39mexcept\u001b[39;00m \u001b[39mTypeError\u001b[39;00m:\n\u001b[1;32m    641\u001b[0m     \u001b[39m# If the exception takes multiple arguments, don't try to\u001b[39;00m\n\u001b[1;32m    642\u001b[0m     \u001b[39m# instantiate since we don't know how to\u001b[39;00m\n\u001b[1;32m    643\u001b[0m     \u001b[39mraise\u001b[39;00m \u001b[39mRuntimeError\u001b[39;00m(msg) \u001b[39mfrom\u001b[39;00m \u001b[39mNone\u001b[39;00m\n\u001b[0;32m--> 644\u001b[0m \u001b[39mraise\u001b[39;00m exception\n",
      "\u001b[0;31mRuntimeError\u001b[0m: Caught RuntimeError in replica 0 on device 0.\nOriginal Traceback (most recent call last):\n  File \"/home/qian/anaconda3/envs/pointcloud/lib/python3.10/site-packages/torch/nn/parallel/parallel_apply.py\", line 64, in _worker\n    output = module(*input, **kwargs)\n  File \"/home/qian/anaconda3/envs/pointcloud/lib/python3.10/site-packages/torch/nn/modules/module.py\", line 1501, in _call_impl\n    return forward_call(*args, **kwargs)\n  File \"/home/qian/Desktop/cvalpointcloud/model.py\", line 146, in forward\n    x = get_graph_feature(\n  File \"/home/qian/Desktop/cvalpointcloud/model.py\", line 49, in get_graph_feature\n    idx = idx + idx_base\nRuntimeError: Expected all tensors to be on the same device, but found at least two devices, cuda:0 and cpu!\n"
     ]
    }
   ],
   "source": [
    "#train\n",
    "train_loader = DataLoader(\n",
    "        ModelNet40(partition=\"train\", num_points=args.num_points),\n",
    "        num_workers=8,\n",
    "        batch_size=args.batch_size,\n",
    "        shuffle=True,\n",
    "        drop_last=True,\n",
    "    )\n",
    "test_loader = DataLoader(\n",
    "    ModelNet40(partition=\"test\", num_points=args.num_points),\n",
    "    num_workers=8,\n",
    "    batch_size=args.test_batch_size,\n",
    "    shuffle=True,\n",
    "    drop_last=False,\n",
    ")\n",
    "\n",
    "device = torch.device(\"cuda\" if torch.cuda.is_available() else \"cpu\")\n",
    "\n",
    "# Try to load models\n",
    "if args.model == \"pointnet\":\n",
    "    model = PointNet(args).to(device)\n",
    "elif args.model == \"dgcnn\":\n",
    "    model = DGCNN_cls(args).to(device)\n",
    "else:\n",
    "    raise Exception(\"Not implemented\")\n",
    "\n",
    "# print(str(model))\n",
    "\n",
    "model = nn.DataParallel(model)\n",
    "print(\"Let's use\", torch.cuda.device_count(), \"GPUs!\")\n",
    "\n",
    "\n",
    "print(\"Use Adam\")\n",
    "opt = optim.Adam(model.parameters(), lr=args.lr, weight_decay=1e-4)\n",
    "\n",
    "if args.scheduler == \"cos\":\n",
    "    scheduler = CosineAnnealingLR(opt, args.epochs, eta_min=1e-3)\n",
    "elif args.scheduler == \"step\":\n",
    "    scheduler = StepLR(opt, step_size=20, gamma=0.7)\n",
    "\n",
    "criterion = cal_loss\n",
    "best_test_acc = 0\n",
    "\n",
    "EPSILON = 0.5\n",
    "\n",
    "for epoch in range(args.epochs):\n",
    "    ####################\n",
    "    # Train\n",
    "    ####################\n",
    "    train_loss = 0.0\n",
    "    count = 0.0\n",
    "    model.train()\n",
    "    train_pred = []\n",
    "    train_true = []\n",
    "    for data, label in train_loader:\n",
    "        data, label = data.to(device), label.to(device).squeeze()\n",
    "        data = data.permute(0, 2, 1)\n",
    "        # print(data.size())\n",
    "        data.requires_grad = True\n",
    "        batch_size = data.size()[0]\n",
    "        opt.zero_grad()\n",
    "        logits = model(data)\n",
    "        loss = criterion(logits, label)\n",
    "        loss.backward()\n",
    "        print(data[0])\n",
    "        vis_point_cloud(data[0].detach().cpu().numpy())\n",
    "\n",
    "        #perform fgsm\n",
    "        data_grad = data.grad.data\n",
    "        perturbed = data + EPSILON * data_grad.sign()\n",
    "        perturbed = torch.clamp(perturbed, 0, 1)\n",
    "        vis_point_cloud(perturbed[0].detach().cpu().numpy())\n",
    "        perturbed_logits = model(perturbed)\n",
    "\n",
    "        opt.step()\n",
    "        preds = logits.max(dim=1)[1]\n",
    "        preds_perturbed = perturbed_logits.max(dim=1)[1]\n",
    "        count += batch_size\n",
    "        train_loss += loss.item() * batch_size\n",
    "        train_true.append(label.cpu().numpy())\n",
    "        train_pred.append(preds.detach().cpu().numpy())\n",
    "        break\n",
    "    break\n",
    "    if args.scheduler == \"cos\":\n",
    "        scheduler.step()\n",
    "    elif args.scheduler == \"step\":\n",
    "        if opt.param_groups[0][\"lr\"] > 1e-5:\n",
    "            scheduler.step()\n",
    "        if opt.param_groups[0][\"lr\"] < 1e-5:\n",
    "            for param_group in opt.param_groups:\n",
    "                param_group[\"lr\"] = 1e-5\n",
    "    train_true = np.concatenate(train_true)\n",
    "    train_pred = np.concatenate(train_pred)\n",
    "    outstr = \"Train %d, loss: %.6f, train acc: %.6f, train avg acc: %.6f\" % (\n",
    "        epoch,\n",
    "        train_loss * 1.0 / count,\n",
    "        metrics.accuracy_score(train_true, train_pred),\n",
    "        metrics.balanced_accuracy_score(train_true, train_pred),\n",
    "    )\n",
    "    print(outstr)"
   ]
  },
  {
   "cell_type": "code",
   "execution_count": 2,
   "metadata": {},
   "outputs": [
    {
     "ename": "NameError",
     "evalue": "name 'DGCNN_cls' is not defined",
     "output_type": "error",
     "traceback": [
      "\u001b[0;31m---------------------------------------------------------------------------\u001b[0m",
      "\u001b[0;31mNameError\u001b[0m                                 Traceback (most recent call last)",
      "Cell \u001b[0;32mIn[2], line 1\u001b[0m\n\u001b[0;32m----> 1\u001b[0m mod \u001b[39m=\u001b[39m DGCNN_cls(args)\u001b[39m.\u001b[39mto(device)\n\u001b[1;32m      2\u001b[0m mod \u001b[39m=\u001b[39m nn\u001b[39m.\u001b[39mDataParallel(mod)\n\u001b[1;32m      3\u001b[0m mod\u001b[39m.\u001b[39mload_state_dict(torch\u001b[39m.\u001b[39mload(args\u001b[39m.\u001b[39mmodel_path, map_location\u001b[39m=\u001b[39mtorch\u001b[39m.\u001b[39mdevice(\u001b[39m\"\u001b[39m\u001b[39mcpu\u001b[39m\u001b[39m\"\u001b[39m)))\n",
      "\u001b[0;31mNameError\u001b[0m: name 'DGCNN_cls' is not defined"
     ]
    }
   ],
   "source": [
    "mod = DGCNN_cls(args).to(device)\n",
    "mod = nn.DataParallel(mod)\n",
    "mod.load_state_dict(torch.load(args.model_path, map_location=torch.device(device)))\n",
    "\n",
    "train_loader = DataLoader(\n",
    "        ModelNet40(partition=\"train\", num_points=args.num_points),\n",
    "        num_workers=8,\n",
    "        batch_size=args.batch_size,\n",
    "        shuffle=True,\n",
    "        drop_last=True,\n",
    "    )\n",
    "print(\"getting sample\")\n",
    "sample = None\n",
    "label = None\n",
    "for data, l in train_loader:\n",
    "    print(0)\n",
    "    data, l = data.to(device), l.to(device).squeeze()\n",
    "    sample, label = data, l\n",
    "    break\n"
   ]
  },
  {
   "cell_type": "code",
   "execution_count": 6,
   "metadata": {},
   "outputs": [],
   "source": [
    "vis_point_cloud(sample[0])"
   ]
  },
  {
   "cell_type": "code",
   "execution_count": null,
   "metadata": {},
   "outputs": [],
   "source": []
  }
 ],
 "metadata": {
  "kernelspec": {
   "display_name": "base",
   "language": "python",
   "name": "python3"
  },
  "language_info": {
   "codemirror_mode": {
    "name": "ipython",
    "version": 3
   },
   "file_extension": ".py",
   "mimetype": "text/x-python",
   "name": "python",
   "nbconvert_exporter": "python",
   "pygments_lexer": "ipython3",
   "version": "3.10.10"
  },
  "orig_nbformat": 4
 },
 "nbformat": 4,
 "nbformat_minor": 2
}
