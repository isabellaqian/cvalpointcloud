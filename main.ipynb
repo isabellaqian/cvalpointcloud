{
 "cells": [
  {
   "cell_type": "code",
   "execution_count": 1,
   "metadata": {},
   "outputs": [
    {
     "name": "stdout",
     "output_type": "stream",
     "text": [
      "Jupyter environment detected. Enabling Open3D WebVisualizer.\n",
      "[Open3D INFO] WebRTC GUI backend enabled.\n",
      "[Open3D INFO] WebRTCWindowSystem: HTTP handshake server disabled.\n",
      "cuda\n"
     ]
    }
   ],
   "source": [
    "from __future__ import print_function\n",
    "import os\n",
    "import argparse\n",
    "import torch\n",
    "import torch.nn as nn\n",
    "import torch.nn.functional as F\n",
    "import torch.optim as optim\n",
    "from torch.optim.lr_scheduler import CosineAnnealingLR, StepLR\n",
    "from data import ModelNet40\n",
    "from model import PointNet, DGCNN_cls\n",
    "import numpy as np\n",
    "from torch.utils.data import DataLoader\n",
    "from util import cal_loss, IOStream, vis_point_cloud, vis_point_cloud_side_by_side\n",
    "import sklearn.metrics as metrics\n",
    "import pickle\n",
    "import open3d as o3d\n",
    "\n",
    "device = torch.device(\"cuda\" if torch.cuda.is_available() else \"cpu\")\n",
    "class args:\n",
    "    def __init__(self):\n",
    "        self.batch_size = 32\n",
    "        self.num_points = 1024\n",
    "        self.no_cuda = not torch.cuda.is_available()\n",
    "        self.cuda = torch.cuda.is_available()\n",
    "        self.seed = 1\n",
    "        self.exp_name = \"cls_1024_eval\"\n",
    "        self.model = \"dgcnn\"\n",
    "        self.dataset = \"modelnet40\"\n",
    "        self.test_batch_size = 16\n",
    "        self.epochs = 50 #original 250\n",
    "        self.lr = 0.001\n",
    "        self.momentum = 0.9\n",
    "        self.scheduler = \"cos\"\n",
    "        self.dropout = 0.5\n",
    "        self.k = 20\n",
    "        self.model_path = \"pretrained/model.cls.1024.t7\"\n",
    "        self.emb_dims = 1024\n",
    "args = args()\n",
    "\n",
    "if not os.path.exists(\"outputs\"):\n",
    "    os.makedirs(\"outputs\")\n",
    "if not os.path.exists(\"outputs/\" + args.exp_name):\n",
    "    os.makedirs(\"outputs/\" + args.exp_name)\n",
    "if not os.path.exists(\"outputs/\" + args.exp_name + \"/\" + \"models\"):\n",
    "    os.makedirs(\"outputs/\" + args.exp_name + \"/\" + \"models\")\n",
    "os.system(\n",
    "    \"cp main_cls.py outputs\" + \"/\" + args.exp_name + \"/\" + \"main_cls.py.backup\"\n",
    ")\n",
    "os.system(\"cp model.py outputs\" + \"/\" + args.exp_name + \"/\" + \"model.py.backup\")\n",
    "os.system(\"cp util.py outputs\" + \"/\" + args.exp_name + \"/\" + \"util.py.backup\")\n",
    "os.system(\"cp data.py outputs\" + \"/\" + args.exp_name + \"/\" + \"data.py.backup\")\n",
    "print(device)"
   ]
  },
  {
   "cell_type": "code",
   "execution_count": 4,
   "metadata": {},
   "outputs": [
    {
     "name": "stdout",
     "output_type": "stream",
     "text": [
      "Test :: test acc: 0.847245, test avg acc: 0.778064\n",
      "Test :: test acc: 0.728930, test avg acc: 0.648407\n"
     ]
    }
   ],
   "source": [
    "def test(model_path, fgsm=False, criterion=cal_loss, e=0.03):\n",
    "    #sample test\n",
    "    test_loader = DataLoader(\n",
    "            ModelNet40(partition=\"test\", num_points=args.num_points),\n",
    "            batch_size=args.test_batch_size,\n",
    "            shuffle=True,\n",
    "            drop_last=False,\n",
    "        )\n",
    "\n",
    "    # Try to load models\n",
    "    if args.model == \"pointnet\":\n",
    "        model = PointNet(args).to(device)\n",
    "    elif args.model == \"dgcnn\":\n",
    "        model = DGCNN_cls(args).to(device)\n",
    "    else:\n",
    "        raise Exception(\"Not implemented\")\n",
    "\n",
    "    model = nn.DataParallel(model)\n",
    "    model.load_state_dict(torch.load(model_path, map_location=torch.device(\"cpu\")))\n",
    "    model = model.to(device).eval()\n",
    "    test_acc = 0.0\n",
    "    count = 0.0\n",
    "    test_true = []\n",
    "    test_pred = []\n",
    "    for data, label in test_loader:\n",
    "        count += 1\n",
    "        # print(count / len(test_loader))\n",
    "        data, label = data.to(device), label.to(device).squeeze()\n",
    "        data = data.permute(0, 2, 1)\n",
    "        preds = None\n",
    "        if fgsm:\n",
    "            data.requires_grad = True\n",
    "            model.zero_grad()\n",
    "            logits = model(data)\n",
    "            loss = criterion(logits, label) #get grad data\n",
    "            loss.backward()\n",
    "            \n",
    "            #perform fgsm\n",
    "            data_grad = data.grad.data\n",
    "            perturbed = data + e * data_grad.sign()\n",
    "            perturbed_logits = model(perturbed)\n",
    "            preds = perturbed_logits.max(dim=1)[1]\n",
    "        else:\n",
    "            batch_size = data.size()[0]\n",
    "            logits = model(data)\n",
    "            preds = logits.max(dim=1)[1]\n",
    "        test_true.append(label.cpu().numpy())\n",
    "        test_pred.append(preds.detach().cpu().numpy())\n",
    "    test_true = np.concatenate(test_true)\n",
    "    test_pred = np.concatenate(test_pred)\n",
    "    test_acc = metrics.accuracy_score(test_true, test_pred)\n",
    "    avg_per_class_acc = metrics.balanced_accuracy_score(test_true, test_pred)\n",
    "    outstr = \"Test :: test acc: %.6f, test avg acc: %.6f\" % (\n",
    "        test_acc,\n",
    "        avg_per_class_acc,\n",
    "    )\n",
    "    print(outstr)\n",
    "\n",
    "model_path = \"./izzymodels/02.pth\"\n",
    "test(model_path,fgsm=True)\n",
    "test(\"./pretrained/model.cls.1024.t7\",fgsm=True)"
   ]
  },
  {
   "cell_type": "code",
   "execution_count": 3,
   "metadata": {},
   "outputs": [
    {
     "name": "stdout",
     "output_type": "stream",
     "text": [
      "Let's use 2 GPUs!\n",
      "Epsilon:  0.02\n"
     ]
    },
    {
     "ename": "",
     "evalue": "",
     "output_type": "error",
     "traceback": [
      "\u001b[1;31mCanceled future for execute_request message before replies were done"
     ]
    },
    {
     "ename": "",
     "evalue": "",
     "output_type": "error",
     "traceback": [
      "\u001b[1;31mThe Kernel crashed while executing code in the the current cell or a previous cell. Please review the code in the cell(s) to identify a possible cause of the failure. Click <a href='https://aka.ms/vscodeJupyterKernelCrash'>here</a> for more info. View Jupyter <a href='command:jupyter.viewOutput'>log</a> for further details."
     ]
    }
   ],
   "source": [
    "#train\n",
    "train_loader = DataLoader(\n",
    "        ModelNet40(partition=\"train\", num_points=args.num_points),\n",
    "        num_workers=8,\n",
    "        batch_size=args.batch_size,\n",
    "        shuffle=False,\n",
    "        drop_last=True,\n",
    "    )\n",
    "test_loader = DataLoader(\n",
    "    ModelNet40(partition=\"test\", num_points=args.num_points),\n",
    "    num_workers=8,\n",
    "    batch_size=args.test_batch_size,\n",
    "    shuffle=True,\n",
    "    drop_last=False,\n",
    ")\n",
    "\n",
    "device = torch.device(\"cuda\" if torch.cuda.is_available() else \"cpu\")\n",
    "\n",
    "# Try to load models\n",
    "if args.model == \"pointnet\":\n",
    "    model = PointNet(args).to(device)\n",
    "elif args.model == \"dgcnn\":\n",
    "    model = DGCNN_cls(args).to(device)\n",
    "else:\n",
    "    raise Exception(\"Not implemented\")\n",
    "\n",
    "# print(str(model))\n",
    "\n",
    "model = nn.DataParallel(model)\n",
    "print(\"Let's use\", torch.cuda.device_count(), \"GPUs!\")\n",
    "\n",
    "opt = optim.Adam(model.parameters(), lr=args.lr, weight_decay=1e-4)\n",
    "\n",
    "if args.scheduler == \"cos\":\n",
    "    scheduler = CosineAnnealingLR(opt, args.epochs, eta_min=1e-3)\n",
    "elif args.scheduler == \"step\":\n",
    "    scheduler = StepLR(opt, step_size=20, gamma=0.7)\n",
    "\n",
    "criterion = cal_loss\n",
    "best_test_acc = 0\n",
    "\n",
    "EPSILON = 0.2\n",
    "epsilons = [0.02, 0.05] #omitted 0.1\n",
    "accuracies = {}\n",
    "\n",
    "salient_thres = 80 #keeps bottom 80% of points\n",
    "for e in epsilons:\n",
    "    print(\"Epsilon: \", e)\n",
    "    model = DGCNN_cls(args).to(device)\n",
    "    model = nn.DataParallel(model)\n",
    "    opt = optim.Adam(model.parameters(), lr=args.lr, weight_decay=1e-4)\n",
    "    if args.scheduler == \"cos\":\n",
    "        scheduler = CosineAnnealingLR(opt, args.epochs, eta_min=1e-3)\n",
    "    elif args.scheduler == \"step\":\n",
    "        scheduler = StepLR(opt, step_size=20, gamma=0.7)\n",
    "\n",
    "    for epoch in range(args.epochs):\n",
    "        ####################\n",
    "        # Train\n",
    "        ####################\n",
    "        train_loss = 0.0\n",
    "        count = 0.0\n",
    "        model.train()\n",
    "        train_pred = []\n",
    "        train_true = []\n",
    "        for data, label in train_loader:\n",
    "            data, label = data.to(device), label.to(device).squeeze()\n",
    "            data = data.permute(0, 2, 1)\n",
    "            data.requires_grad = True\n",
    "            batch_size = data.size()[0]\n",
    "            opt.zero_grad()\n",
    "            logits = model(data)\n",
    "            loss = criterion(logits, label)\n",
    "            loss.backward()\n",
    "            opt.step()\n",
    "            train_loss += loss.item() * batch_size\n",
    "            vis_data = data.permute(0, 2, 1).cpu().detach().numpy()\n",
    "\n",
    "            #perform fgsm\n",
    "            # normalized_grad = F.normalize(data.grad.data, p=2, dim=1) #dim 1 because the shape is 64 x 3 x 1024\n",
    "            # mask = normalized_grad > e\n",
    "            # normalized_grad[mask] *= e\n",
    "            # perturbed = data - normalized_grad\n",
    "            # perturbed = torch.clamp(perturbed, 0, 1)\n",
    "\n",
    "            # remove salient points\n",
    "            gradients = data.grad.data.norm(2, dim=1) #dim=batchx1024 points\n",
    "            saliency_map = gradients.squeeze().detach().cpu().numpy()\n",
    "            saliency = saliency_map\n",
    "            \n",
    "            # print(\"saliency map \",saliency_map.shape)\n",
    "            threshold = np.percentile(saliency_map, salient_thres,axis=1).reshape(-1,1) #32x1\n",
    "            threshold_mask = torch.tensor(saliency_map < threshold) #32x1024\n",
    "            threshold_mask = threshold_mask.unsqueeze(1).expand(-1, 3, -1) #turn into 32x3x1024\n",
    "            # removed_salient_points = torch.where(threshold_mask.to(device), data, torch.full_like(data,-1).to(device))\n",
    "            perturbed = data[threshold_mask].reshape(batch_size,3,-1)\n",
    "            # print(\"saliency map where top 10% are turned into -1:\",removed_salient_points.shape)\n",
    "\n",
    "            # vis_data_perturbed = perturbed.permute(0, 2, 1).cpu().detach().numpy()\n",
    "            # vis_point_cloud_side_by_side(vis_data[0], vis_data_perturbed[0])\n",
    "            # break\n",
    "            \n",
    "            #training model with fgsm data\n",
    "            opt.zero_grad()\n",
    "            perturbed_logits = model(perturbed)\n",
    "            loss = criterion(perturbed_logits, label)\n",
    "            loss.backward()\n",
    "            opt.step()\n",
    "            train_loss += loss.item() * batch_size\n",
    "\n",
    "            #calculate accuracy\n",
    "            preds = logits.max(dim=1)[1]\n",
    "            preds_perturbed = perturbed_logits.max(dim=1)[1]\n",
    "            count += batch_size * 2\n",
    "            train_true.append(label.cpu().numpy())\n",
    "            train_true.append(label.cpu().numpy())\n",
    "            train_pred.append(preds.detach().cpu().numpy())\n",
    "            train_pred.append(preds_perturbed.detach().cpu().numpy())\n",
    "            \n",
    "        if args.scheduler == \"cos\":\n",
    "            scheduler.step()\n",
    "        elif args.scheduler == \"step\":\n",
    "            if opt.param_groups[0][\"lr\"] > 1e-5:\n",
    "                scheduler.step()\n",
    "            if opt.param_groups[0][\"lr\"] < 1e-5:\n",
    "                for param_group in opt.param_groups:\n",
    "                    param_group[\"lr\"] = 1e-5\n",
    "        train_true = np.concatenate(train_true)\n",
    "        train_pred = np.concatenate(train_pred)\n",
    "        outstr = \"\\tEpoch %d, loss: %.6f, train acc: %.6f, train avg acc: %.6f\" % (\n",
    "            epoch,\n",
    "            train_loss * 1.0 / count,\n",
    "            metrics.accuracy_score(train_true, train_pred),\n",
    "            metrics.balanced_accuracy_score(train_true, train_pred),\n",
    "        )\n",
    "        print(outstr)\n",
    "        accuracies[e] = metrics.accuracy_score(train_true, train_pred)\n",
    "    # path = \"./izzymodels/\"+str(e)[2:] + \".pth\"\n",
    "    # torch.save(model.state_dict(), path)\n",
    "accuracies"
   ]
  },
  {
   "cell_type": "code",
   "execution_count": 37,
   "metadata": {},
   "outputs": [
    {
     "name": "stdout",
     "output_type": "stream",
     "text": [
      "(10, 5)\n",
      "(30, 5)\n",
      "torch.Size([10, 3, 5])\n",
      "tensor(True)\n"
     ]
    },
    {
     "data": {
      "text/plain": [
       "array([[0.27737835, 0.1907927 , 0.46487164, 0.89233792, 0.60424319],\n",
       "       [0.27737835, 0.1907927 , 0.46487164, 0.89233792, 0.60424319],\n",
       "       [0.27737835, 0.1907927 , 0.46487164, 0.89233792, 0.60424319],\n",
       "       [0.22722003, 0.0402359 , 0.19917442, 0.93493497, 0.6426478 ],\n",
       "       [0.22722003, 0.0402359 , 0.19917442, 0.93493497, 0.6426478 ],\n",
       "       [0.22722003, 0.0402359 , 0.19917442, 0.93493497, 0.6426478 ],\n",
       "       [0.75709622, 0.42671964, 0.23033118, 0.95107354, 0.22563387],\n",
       "       [0.75709622, 0.42671964, 0.23033118, 0.95107354, 0.22563387],\n",
       "       [0.75709622, 0.42671964, 0.23033118, 0.95107354, 0.22563387],\n",
       "       [0.43288858, 0.37977531, 0.48903089, 0.31280568, 0.12866751],\n",
       "       [0.43288858, 0.37977531, 0.48903089, 0.31280568, 0.12866751],\n",
       "       [0.43288858, 0.37977531, 0.48903089, 0.31280568, 0.12866751],\n",
       "       [0.46048328, 0.4358129 , 0.32294466, 0.53609872, 0.09166668],\n",
       "       [0.46048328, 0.4358129 , 0.32294466, 0.53609872, 0.09166668],\n",
       "       [0.46048328, 0.4358129 , 0.32294466, 0.53609872, 0.09166668],\n",
       "       [0.27042282, 0.47276969, 0.12892668, 0.08256146, 0.49228739],\n",
       "       [0.27042282, 0.47276969, 0.12892668, 0.08256146, 0.49228739],\n",
       "       [0.27042282, 0.47276969, 0.12892668, 0.08256146, 0.49228739],\n",
       "       [0.36998488, 0.35494948, 0.09881535, 0.28639611, 0.44637564],\n",
       "       [0.36998488, 0.35494948, 0.09881535, 0.28639611, 0.44637564],\n",
       "       [0.36998488, 0.35494948, 0.09881535, 0.28639611, 0.44637564],\n",
       "       [0.49285565, 0.32546525, 0.80453485, 0.50570405, 0.81446806],\n",
       "       [0.49285565, 0.32546525, 0.80453485, 0.50570405, 0.81446806],\n",
       "       [0.49285565, 0.32546525, 0.80453485, 0.50570405, 0.81446806],\n",
       "       [0.91843233, 0.23294166, 0.90507341, 0.58138226, 0.10774823],\n",
       "       [0.91843233, 0.23294166, 0.90507341, 0.58138226, 0.10774823],\n",
       "       [0.91843233, 0.23294166, 0.90507341, 0.58138226, 0.10774823],\n",
       "       [0.55158595, 0.86468564, 0.46355765, 0.15669466, 0.6774682 ],\n",
       "       [0.55158595, 0.86468564, 0.46355765, 0.15669466, 0.6774682 ],\n",
       "       [0.55158595, 0.86468564, 0.46355765, 0.15669466, 0.6774682 ]])"
      ]
     },
     "execution_count": 37,
     "metadata": {},
     "output_type": "execute_result"
    }
   ],
   "source": [
    "# v = torch.tensor([[[1,2,3,4,5],[6,7,8,9,10]]])\n",
    "# t = torch.tensor(np.percentile(v, 90,axis=1))\n",
    "# v > t\n",
    "\n",
    "# threshold = np.percentile(saliency, 90,axis=1).reshape(-1,1)\n",
    "# print(threshold.shape)\n",
    "# print(threshold.reshape(1,-1).shape) #1x32\n",
    "# print((saliency < threshold).shape)\n",
    "a = np.random.rand(10, 5)\n",
    "b = a.repeat(3,axis=0)\n",
    "c = torch.tensor(a).unsqueeze(1).expand(-1, 3, -1)\n",
    "print(a.shape)\n",
    "print(b.shape)\n",
    "print(c.shape)\n",
    "print(c[0][0][0] == c[0][1][0])\n",
    "b"
   ]
  },
  {
   "cell_type": "code",
   "execution_count": null,
   "metadata": {},
   "outputs": [
    {
     "name": "stdout",
     "output_type": "stream",
     "text": [
      "tensor([1.5000, 5.4000, 0.8000, 6.4000, 1.1000])\n"
     ]
    }
   ],
   "source": [
    "# Assuming you have a tensor\n",
    "tensor = torch.tensor([1.5, 2.7, 0.8, 3.2, 1.1])\n",
    "\n",
    "threshold = 2.0\n",
    "multiplication_factor = 2\n",
    "\n",
    "# Create a mask for elements above the threshold\n",
    "mask = tensor > threshold\n",
    "\n",
    "# Multiply elements above the threshold by the multiplication factor\n",
    "result = tensor.clone()  # Create a copy of the original tensor\n",
    "result[mask] *= multiplication_factor\n",
    "\n",
    "print(result)\n"
   ]
  },
  {
   "cell_type": "code",
   "execution_count": null,
   "metadata": {},
   "outputs": [
    {
     "name": "stdout",
     "output_type": "stream",
     "text": [
      "getting sample\n",
      "0\n"
     ]
    }
   ],
   "source": [
    "mod = DGCNN_cls(args).to(device)\n",
    "mod = nn.DataParallel(mod)\n",
    "mod.load_state_dict(torch.load(args.model_path, map_location=torch.device(device)))\n",
    "\n",
    "train_loader = DataLoader(\n",
    "        ModelNet40(partition=\"train\", num_points=args.num_points),\n",
    "        num_workers=8,\n",
    "        batch_size=args.batch_size,\n",
    "        shuffle=True,\n",
    "        drop_last=True,\n",
    "    )\n",
    "print(\"getting sample\")\n",
    "sample = None\n",
    "label = None\n",
    "for data, l in train_loader:\n",
    "    print(0)\n",
    "    data, l = data.to(device), l.to(device).squeeze()\n",
    "    sample, label = data, l\n",
    "    break\n",
    "vis_point_cloud(sample[0].cpu())"
   ]
  },
  {
   "cell_type": "code",
   "execution_count": null,
   "metadata": {},
   "outputs": [
    {
     "data": {
      "text/plain": [
       "{0.02: 0.8888436482084691, 0.05: 0.7661339576547231}"
      ]
     },
     "execution_count": 5,
     "metadata": {},
     "output_type": "execute_result"
    }
   ],
   "source": [
    "accuracies"
   ]
  },
  {
   "cell_type": "code",
   "execution_count": null,
   "metadata": {},
   "outputs": [
    {
     "name": "stdout",
     "output_type": "stream",
     "text": [
      "0.0064516129032258064\n"
     ]
    },
    {
     "ename": "AttributeError",
     "evalue": "'NoneType' object has no attribute 'data'",
     "output_type": "error",
     "traceback": [
      "\u001b[0;31m---------------------------------------------------------------------------\u001b[0m",
      "\u001b[0;31mAttributeError\u001b[0m                            Traceback (most recent call last)",
      "Cell \u001b[0;32mIn[3], line 2\u001b[0m\n\u001b[1;32m      1\u001b[0m model_path \u001b[39m=\u001b[39m \u001b[39m\"\u001b[39m\u001b[39m./izzymodels/02.pth\u001b[39m\u001b[39m\"\u001b[39m\n\u001b[0;32m----> 2\u001b[0m test(model_path,fgsm\u001b[39m=\u001b[39;49m\u001b[39mTrue\u001b[39;49;00m)\n",
      "Cell \u001b[0;32mIn[2], line 39\u001b[0m, in \u001b[0;36mtest\u001b[0;34m(model_path, fgsm, criterion, e)\u001b[0m\n\u001b[1;32m     36\u001b[0m loss \u001b[39m=\u001b[39m criterion(logits, label) \u001b[39m#get grad data\u001b[39;00m\n\u001b[1;32m     38\u001b[0m \u001b[39m#perform fgsm\u001b[39;00m\n\u001b[0;32m---> 39\u001b[0m data_grad \u001b[39m=\u001b[39m data\u001b[39m.\u001b[39;49mgrad\u001b[39m.\u001b[39;49mdata\n\u001b[1;32m     40\u001b[0m perturbed \u001b[39m=\u001b[39m data \u001b[39m+\u001b[39m e \u001b[39m*\u001b[39m data_grad\u001b[39m.\u001b[39msign()\n\u001b[1;32m     41\u001b[0m perturbed_logits \u001b[39m=\u001b[39m model(perturbed)\n",
      "\u001b[0;31mAttributeError\u001b[0m: 'NoneType' object has no attribute 'data'"
     ]
    }
   ],
   "source": [
    "model_path = \"./izzymodels/02.pth\"\n",
    "test(model_path,fgsm=True)"
   ]
  },
  {
   "cell_type": "code",
   "execution_count": null,
   "metadata": {},
   "outputs": [],
   "source": []
  }
 ],
 "metadata": {
  "kernelspec": {
   "display_name": "base",
   "language": "python",
   "name": "python3"
  },
  "language_info": {
   "codemirror_mode": {
    "name": "ipython",
    "version": 3
   },
   "file_extension": ".py",
   "mimetype": "text/x-python",
   "name": "python",
   "nbconvert_exporter": "python",
   "pygments_lexer": "ipython3",
   "version": "3.10.10"
  },
  "orig_nbformat": 4
 },
 "nbformat": 4,
 "nbformat_minor": 2
}
